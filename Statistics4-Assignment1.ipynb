{
 "cells": [
  {
   "cell_type": "raw",
   "metadata": {},
   "source": [
    "Problem Statement 1:\n",
    "Is gender independent of education level? A random sample of 395 people were\n",
    "surveyed and each person was asked to report the highest education level they\n",
    "obtained. The data that resulted from the survey is summarized in the following table:\n",
    "\n",
    "      High School Bachelors Masters Ph.d. Total\n",
    "Female 60          54        46      41    201\n",
    "Male   40          44        53      57    194\n",
    "Total 100          98        99      98    395\n",
    "\n",
    "Question: Are gender and education level dependent at 5% level of significance? In\n",
    "other words, given the data collected above, is there a relationship between the gender\n",
    "of an individual and the level of education that they have obtained?\n",
    "\n",
    "Note: Solution submitted via github must contain all the detailed steps."
   ]
  },
  {
   "cell_type": "raw",
   "metadata": {},
   "source": [
    "Question:  Are gender and education level dependent at 5% level of significance?  In other words, given the data collected above, is there a relationship between the gender of an individual and the level of education that they have obtained?\n",
    "\n",
    "Here's the table of expected counts:\n",
    "\n",
    "        High School Bachelors   Masters  Ph.d.   Total\n",
    "Female  50.886      49.868       50.377  49.868   201\n",
    "Male    49.114      48.132       48.623  48.132   194\n",
    "Total   100         98           99      98       395\n"
   ]
  },
  {
   "cell_type": "markdown",
   "metadata": {},
   "source": [
    "So, working this out, \n",
    "χ2 = (60 − 50.886)**2/50.886 + ⋯ + (57 − 48.132)**2/48.132 = 8.006\n",
    "\n",
    "The critical value of χ**2 with 3 degree of freedom is 7.815. Since 8.006 > 7.815, therefore we reject the null hypothesis and conclude that the education level depends on gender at a 5% level of significance.\n",
    "\n",
    "chi - sq = 8.006, DF = 3, P-Value = 0.046"
   ]
  },
  {
   "cell_type": "raw",
   "metadata": {},
   "source": [
    "he Chi-square test of independence value that Minitab calculated is 8.006, which is the same as we calculated above.\n",
    "\n",
    "The Chi-square test for independence is an important method for determining.\n",
    "\n",
    "if there is a relationship between variables where the chance that something falls into a particular category depends on whether the variable falls into another category comes into play. \n",
    "\n",
    "This relationship of independence / dependence is important to be able to understand and use."
   ]
  },
  {
   "cell_type": "code",
   "execution_count": null,
   "metadata": {},
   "outputs": [],
   "source": []
  }
 ],
 "metadata": {
  "kernelspec": {
   "display_name": "Python 3",
   "language": "python",
   "name": "python3"
  },
  "language_info": {
   "codemirror_mode": {
    "name": "ipython",
    "version": 3
   },
   "file_extension": ".py",
   "mimetype": "text/x-python",
   "name": "python",
   "nbconvert_exporter": "python",
   "pygments_lexer": "ipython3",
   "version": "3.6.4"
  }
 },
 "nbformat": 4,
 "nbformat_minor": 2
}
